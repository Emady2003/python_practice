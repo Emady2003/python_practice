{
 "cells": [
  {
   "cell_type": "code",
   "execution_count": 1,
   "metadata": {},
   "outputs": [],
   "source": [
    "def my_sum(a,b):\n",
    "    return a + b"
   ]
  },
  {
   "cell_type": "code",
   "execution_count": 2,
   "metadata": {},
   "outputs": [
    {
     "data": {
      "text/plain": [
       "11"
      ]
     },
     "execution_count": 2,
     "metadata": {},
     "output_type": "execute_result"
    }
   ],
   "source": [
    "my_sum(5,6)"
   ]
  },
  {
   "cell_type": "code",
   "execution_count": 7,
   "metadata": {},
   "outputs": [],
   "source": [
    "def my_sum(a, b,  c = 0):\n",
    "    return a + b + c"
   ]
  },
  {
   "cell_type": "code",
   "execution_count": 8,
   "metadata": {},
   "outputs": [
    {
     "data": {
      "text/plain": [
       "11"
      ]
     },
     "execution_count": 8,
     "metadata": {},
     "output_type": "execute_result"
    }
   ],
   "source": [
    "my_sum(5,6)"
   ]
  },
  {
   "cell_type": "code",
   "execution_count": 9,
   "metadata": {},
   "outputs": [
    {
     "data": {
      "text/plain": [
       "20"
      ]
     },
     "execution_count": 9,
     "metadata": {},
     "output_type": "execute_result"
    }
   ],
   "source": [
    "my_sum(5,6, 9)"
   ]
  },
  {
   "cell_type": "code",
   "execution_count": 10,
   "metadata": {},
   "outputs": [
    {
     "ename": "TypeError",
     "evalue": "my_sum() takes from 2 to 3 positional arguments but 4 were given",
     "output_type": "error",
     "traceback": [
      "\u001b[1;31m---------------------------------------------------------------------------\u001b[0m",
      "\u001b[1;31mTypeError\u001b[0m                                 Traceback (most recent call last)",
      "Cell \u001b[1;32mIn[10], line 1\u001b[0m\n\u001b[1;32m----> 1\u001b[0m \u001b[43mmy_sum\u001b[49m\u001b[43m(\u001b[49m\u001b[38;5;241;43m5\u001b[39;49m\u001b[43m,\u001b[49m\u001b[38;5;241;43m6\u001b[39;49m\u001b[43m,\u001b[49m\u001b[38;5;241;43m9\u001b[39;49m\u001b[43m,\u001b[49m\u001b[38;5;241;43m2\u001b[39;49m\u001b[43m)\u001b[49m\n",
      "\u001b[1;31mTypeError\u001b[0m: my_sum() takes from 2 to 3 positional arguments but 4 were given"
     ]
    }
   ],
   "source": [
    "my_sum(5,6,9,2)"
   ]
  },
  {
   "cell_type": "code",
   "execution_count": 11,
   "metadata": {},
   "outputs": [],
   "source": [
    "def c_sum(*args):\n",
    "    print(args)"
   ]
  },
  {
   "cell_type": "code",
   "execution_count": 12,
   "metadata": {},
   "outputs": [
    {
     "name": "stdout",
     "output_type": "stream",
     "text": [
      "(5, 6, 8, 9, 10)\n"
     ]
    }
   ],
   "source": [
    "c_sum(5,6,8,9,10)"
   ]
  },
  {
   "cell_type": "code",
   "execution_count": 13,
   "metadata": {},
   "outputs": [],
   "source": [
    "def c_sum(*args):\n",
    "    print(args)\n",
    "    return sum(args)"
   ]
  },
  {
   "cell_type": "code",
   "execution_count": 16,
   "metadata": {},
   "outputs": [
    {
     "name": "stdout",
     "output_type": "stream",
     "text": [
      "(5, 4, 2, 10, 20)\n"
     ]
    },
    {
     "data": {
      "text/plain": [
       "41"
      ]
     },
     "execution_count": 16,
     "metadata": {},
     "output_type": "execute_result"
    }
   ],
   "source": [
    "c_sum(5,4,2,10,20)"
   ]
  },
  {
   "cell_type": "code",
   "execution_count": 17,
   "metadata": {},
   "outputs": [],
   "source": [
    "def c_sum(*args):\n",
    "    s = 0\n",
    "    for i in args:\n",
    "        s += i\n",
    "    return s"
   ]
  },
  {
   "cell_type": "code",
   "execution_count": 18,
   "metadata": {},
   "outputs": [
    {
     "data": {
      "text/plain": [
       "41"
      ]
     },
     "execution_count": 18,
     "metadata": {},
     "output_type": "execute_result"
    }
   ],
   "source": [
    "c_sum(5,4,2,10,20)"
   ]
  },
  {
   "cell_type": "code",
   "execution_count": 20,
   "metadata": {},
   "outputs": [],
   "source": [
    "def c_sum(*args, **kwargs):\n",
    "    print(kwargs)\n",
    "    s = 0\n",
    "    for i in args:\n",
    "        s += i\n",
    "    return s"
   ]
  },
  {
   "cell_type": "code",
   "execution_count": 21,
   "metadata": {},
   "outputs": [
    {
     "name": "stdout",
     "output_type": "stream",
     "text": [
      "{}\n"
     ]
    },
    {
     "data": {
      "text/plain": [
       "41"
      ]
     },
     "execution_count": 21,
     "metadata": {},
     "output_type": "execute_result"
    }
   ],
   "source": [
    "c_sum(5,4,2,10,20)"
   ]
  },
  {
   "cell_type": "code",
   "execution_count": 22,
   "metadata": {},
   "outputs": [
    {
     "name": "stdout",
     "output_type": "stream",
     "text": [
      "{'a': 50, 'f': 500, 'w': 200}\n"
     ]
    },
    {
     "data": {
      "text/plain": [
       "41"
      ]
     },
     "execution_count": 22,
     "metadata": {},
     "output_type": "execute_result"
    }
   ],
   "source": [
    "c_sum(5,4,2,10,20, a = 50, f = 500, w = 200)"
   ]
  },
  {
   "cell_type": "code",
   "execution_count": 24,
   "metadata": {},
   "outputs": [],
   "source": [
    "def c_sum(*args, **kwargs):\n",
    "    s = 0\n",
    "    for i in args:\n",
    "        s += i\n",
    "    for k, v in kwargs.items():\n",
    "        s += v\n",
    "    return s"
   ]
  },
  {
   "cell_type": "code",
   "execution_count": 25,
   "metadata": {},
   "outputs": [
    {
     "data": {
      "text/plain": [
       "791"
      ]
     },
     "execution_count": 25,
     "metadata": {},
     "output_type": "execute_result"
    }
   ],
   "source": [
    "c_sum(5,4,2,10,20, a = 50, f = 500, w = 200)"
   ]
  },
  {
   "cell_type": "code",
   "execution_count": 26,
   "metadata": {},
   "outputs": [
    {
     "data": {
      "text/plain": [
       "0"
      ]
     },
     "execution_count": 26,
     "metadata": {},
     "output_type": "execute_result"
    }
   ],
   "source": [
    "c_sum()"
   ]
  },
  {
   "cell_type": "code",
   "execution_count": 27,
   "metadata": {},
   "outputs": [
    {
     "data": {
      "text/plain": [
       "750"
      ]
     },
     "execution_count": 27,
     "metadata": {},
     "output_type": "execute_result"
    }
   ],
   "source": [
    "c_sum(a = 50, f = 500, w = 200)"
   ]
  },
  {
   "cell_type": "code",
   "execution_count": 30,
   "metadata": {},
   "outputs": [],
   "source": [
    "def r_sum(n):\n",
    "    if n <= 0:\n",
    "       return 0\n",
    "    return n + r_sum(n-1)"
   ]
  },
  {
   "cell_type": "code",
   "execution_count": 29,
   "metadata": {},
   "outputs": [
    {
     "data": {
      "text/plain": [
       "15"
      ]
     },
     "execution_count": 29,
     "metadata": {},
     "output_type": "execute_result"
    }
   ],
   "source": [
    "r_sum(5)"
   ]
  },
  {
   "cell_type": "code",
   "execution_count": 31,
   "metadata": {},
   "outputs": [],
   "source": [
    "f = open('test.txt')"
   ]
  },
  {
   "cell_type": "code",
   "execution_count": 32,
   "metadata": {},
   "outputs": [
    {
     "data": {
      "text/plain": [
       "<_io.TextIOWrapper name='test.txt' mode='r' encoding='cp1252'>"
      ]
     },
     "execution_count": 32,
     "metadata": {},
     "output_type": "execute_result"
    }
   ],
   "source": [
    "f"
   ]
  },
  {
   "cell_type": "code",
   "execution_count": 33,
   "metadata": {},
   "outputs": [
    {
     "data": {
      "text/plain": [
       "_io.TextIOWrapper"
      ]
     },
     "execution_count": 33,
     "metadata": {},
     "output_type": "execute_result"
    }
   ],
   "source": [
    "type(f)"
   ]
  },
  {
   "cell_type": "code",
   "execution_count": 34,
   "metadata": {},
   "outputs": [
    {
     "data": {
      "text/plain": [
       "'hi\\nfile handling by python tahlildadeh'"
      ]
     },
     "execution_count": 34,
     "metadata": {},
     "output_type": "execute_result"
    }
   ],
   "source": [
    "f.read()"
   ]
  },
  {
   "cell_type": "code",
   "execution_count": 35,
   "metadata": {},
   "outputs": [],
   "source": [
    "f.close()"
   ]
  },
  {
   "cell_type": "code",
   "execution_count": 36,
   "metadata": {},
   "outputs": [
    {
     "ename": "ValueError",
     "evalue": "I/O operation on closed file.",
     "output_type": "error",
     "traceback": [
      "\u001b[1;31m---------------------------------------------------------------------------\u001b[0m",
      "\u001b[1;31mValueError\u001b[0m                                Traceback (most recent call last)",
      "Cell \u001b[1;32mIn[36], line 1\u001b[0m\n\u001b[1;32m----> 1\u001b[0m \u001b[43mf\u001b[49m\u001b[38;5;241;43m.\u001b[39;49m\u001b[43mread\u001b[49m\u001b[43m(\u001b[49m\u001b[43m)\u001b[49m\n",
      "\u001b[1;31mValueError\u001b[0m: I/O operation on closed file."
     ]
    }
   ],
   "source": [
    "f.read()"
   ]
  },
  {
   "cell_type": "code",
   "execution_count": 37,
   "metadata": {},
   "outputs": [
    {
     "ename": "FileNotFoundError",
     "evalue": "[Errno 2] No such file or directory: 'test1.txt'",
     "output_type": "error",
     "traceback": [
      "\u001b[1;31m---------------------------------------------------------------------------\u001b[0m",
      "\u001b[1;31mFileNotFoundError\u001b[0m                         Traceback (most recent call last)",
      "Cell \u001b[1;32mIn[37], line 1\u001b[0m\n\u001b[1;32m----> 1\u001b[0m f \u001b[38;5;241m=\u001b[39m \u001b[38;5;28;43mopen\u001b[39;49m\u001b[43m(\u001b[49m\u001b[38;5;124;43m'\u001b[39;49m\u001b[38;5;124;43mtest1.txt\u001b[39;49m\u001b[38;5;124;43m'\u001b[39;49m\u001b[43m)\u001b[49m\n",
      "File \u001b[1;32mc:\\Users\\Teacher-1\\AppData\\Local\\Programs\\Python\\Python310\\lib\\site-packages\\IPython\\core\\interactiveshell.py:324\u001b[0m, in \u001b[0;36m_modified_open\u001b[1;34m(file, *args, **kwargs)\u001b[0m\n\u001b[0;32m    317\u001b[0m \u001b[38;5;28;01mif\u001b[39;00m file \u001b[38;5;129;01min\u001b[39;00m {\u001b[38;5;241m0\u001b[39m, \u001b[38;5;241m1\u001b[39m, \u001b[38;5;241m2\u001b[39m}:\n\u001b[0;32m    318\u001b[0m     \u001b[38;5;28;01mraise\u001b[39;00m \u001b[38;5;167;01mValueError\u001b[39;00m(\n\u001b[0;32m    319\u001b[0m         \u001b[38;5;124mf\u001b[39m\u001b[38;5;124m\"\u001b[39m\u001b[38;5;124mIPython won\u001b[39m\u001b[38;5;124m'\u001b[39m\u001b[38;5;124mt let you open fd=\u001b[39m\u001b[38;5;132;01m{\u001b[39;00mfile\u001b[38;5;132;01m}\u001b[39;00m\u001b[38;5;124m by default \u001b[39m\u001b[38;5;124m\"\u001b[39m\n\u001b[0;32m    320\u001b[0m         \u001b[38;5;124m\"\u001b[39m\u001b[38;5;124mas it is likely to crash IPython. If you know what you are doing, \u001b[39m\u001b[38;5;124m\"\u001b[39m\n\u001b[0;32m    321\u001b[0m         \u001b[38;5;124m\"\u001b[39m\u001b[38;5;124myou can use builtins\u001b[39m\u001b[38;5;124m'\u001b[39m\u001b[38;5;124m open.\u001b[39m\u001b[38;5;124m\"\u001b[39m\n\u001b[0;32m    322\u001b[0m     )\n\u001b[1;32m--> 324\u001b[0m \u001b[38;5;28;01mreturn\u001b[39;00m io_open(file, \u001b[38;5;241m*\u001b[39margs, \u001b[38;5;241m*\u001b[39m\u001b[38;5;241m*\u001b[39mkwargs)\n",
      "\u001b[1;31mFileNotFoundError\u001b[0m: [Errno 2] No such file or directory: 'test1.txt'"
     ]
    }
   ],
   "source": [
    "f = open('test1.txt')"
   ]
  },
  {
   "cell_type": "code",
   "execution_count": 2,
   "metadata": {},
   "outputs": [],
   "source": [
    "f = open('../base_transformer.py')"
   ]
  },
  {
   "cell_type": "code",
   "execution_count": 3,
   "metadata": {},
   "outputs": [],
   "source": [
    "c = f.read()"
   ]
  },
  {
   "cell_type": "code",
   "execution_count": 4,
   "metadata": {},
   "outputs": [
    {
     "name": "stdout",
     "output_type": "stream",
     "text": [
      "def mapp(mapeble):\n",
      "    mapeble = str(mapeble).upper()\n",
      "    mapping = {'0':0, '1':1 , '2':2 ,'3':3 , '4':4 , '5':5 , '6':6 , '7':7 , '8':8 , '9':9 ,'A': 10, 'B': 11, 'C': 12, 'D': 13, 'E': 14, 'F': 15, 'G':16, 'H':17 ,'I':18, 'J':19, 'K':20, 'L':21, 'M':22, 'N':23, 'O':24, 'P':25, 'Q':26, 'R':27, 'S':28, 'T':29, 'U':30, 'V':31, 'W':32, 'X':33, 'Y':34, 'Z':35 }\n",
      "    return(mapping[mapeble])\n",
      "\n",
      "def mapprev(mapeble):\n",
      "    mapping = {0: '0', 1: '1', 2: '2', 3: '3', 4: '4', 5: '5', 6: '6', 7: '7', 8: '8', 9: '9', 10: 'A', 11: 'B', 12: 'C', 13: 'D', 14: 'E', 15: 'F', 16: 'G', 17: 'H', 18: 'I', 19: 'J', 20: 'K', 21: 'L', 22: 'M', 23: 'N', 24: 'O', 25: 'P', 26: 'Q', 27: 'R', 28: 'S', 29: 'T', 30: 'U', 31: 'V', 32: 'W', 33: 'X', 34: 'Y', 35: 'Z'}\n",
      "    return(mapping[mapeble])\n",
      "\n",
      "def format_check_number(full_number):\n",
      "    \n",
      "    if \".\" not in list(full_number):\n",
      "        listi = list(full_number)\n",
      "        listi.append('.')\n",
      "        full_number = ''.join(listi)\n",
      "\n",
      "    if full_number.count(\".\") > 1:\n",
      "        print(\"number formateition should be correct !\")\n",
      "        main()\n",
      "    \n",
      "    str_number = (str(full_number).split(\".\"))\n",
      "    integer_list = list(str_number[0])\n",
      "    decimal_list = list(str_number[1])\n",
      "    return(integer_list,decimal_list)\n",
      "\n",
      "def format_check_base(number,num_list):\n",
      "    try:\n",
      "        number = int(number)\n",
      "    except ValueError:\n",
      "        print(\" 1 --> number should be integer\")\n",
      "    if number > 36:\n",
      "        print(\"the base number should be lower than 36 !\")\n",
      "        main(num_list)\n",
      "    for item in num_list:\n",
      "        for i in item:\n",
      "            if mapp(i) >= number :\n",
      "                print(\" 2--> The number cannot contain characters greater than the base\")\n",
      "                main(num_list)\n",
      "    return(int(number))\n",
      "def format_check_goingto_base(number,base,num_list):\n",
      "    try:\n",
      "        number = int(number)\n",
      "    except ValueError:\n",
      "        print(\" 1 --> number should be integer\")\n",
      "    if number == base:\n",
      "        print(\"the going to base nmber shouldnt be the same with base !\")\n",
      "        main(num_list)\n",
      "    if number < 2:\n",
      "        print(\"its not possible \")\n",
      "        main(num_list)\n",
      "    \n",
      "    return(int(number))\n",
      "\n",
      "\n",
      "def integer_10(num_list,base):\n",
      "    int_10 = 0\n",
      "    counter = 1\n",
      "    while counter != len(num_list)+1:\n",
      "        int_10 = int_10 + num_list[-(counter)]*(base**(counter-1))\n",
      "        counter += 1\n",
      "    return(int_10)\n",
      "\n",
      "def decimal_10(num_list,base):\n",
      "    dec_10 = 0\n",
      "    counter = 0\n",
      "    while counter != len(num_list):\n",
      "        dec_10 = dec_10 +num_list[counter]/(base**(counter+1))\n",
      "        counter += 1\n",
      "    return(dec_10)\n",
      "\n",
      "def int10_toBase(number,base):\n",
      "    number_list =[]\n",
      "    if number//base < base:\n",
      "            number_list.append(number//base)\n",
      "    while number >= base:\n",
      "        number_list.append(number%base)\n",
      "        if number//base < base:\n",
      "            number_list.append(number//base)\n",
      "        number = number//base\n",
      "    final_list = []\n",
      "    count = 1\n",
      "    while count != len(number_list)+1:\n",
      "        final_list.append(number_list[-count])\n",
      "        count += 1\n",
      "    veryfinall_list=[]\n",
      "    for item in final_list:\n",
      "        veryfinall_list.append(mapprev(item))\n",
      "    base_str = ''\n",
      "    result = base_str + ''.join(map(str, veryfinall_list))\n",
      "    return(result)\n",
      "\n",
      "def dec10_toBase(number,base):\n",
      "    decimal_list =[]\n",
      "    counter = 0\n",
      "    while number != 0.0 and counter < 10:\n",
      "        number = number*base\n",
      "        if number > 1:\n",
      "            numberMod = (number//1)\n",
      "            number = number - numberMod\n",
      "            decimal_list.append(int(numberMod))\n",
      "        else :\n",
      "            decimal_list.append(0)\n",
      "        counter += 1\n",
      "    finall_list = []\n",
      "    for item in decimal_list:\n",
      "        finall_list.append(mapprev(item))\n",
      "    base_str = '.'\n",
      "    result = base_str + ''.join(map(str, finall_list))\n",
      "    return(str(result))\n",
      "\n",
      "def main(checked_number=None,):\n",
      "    if checked_number == None:\n",
      "        number = input(\"please enter your number : \")\n",
      "        checked_number = format_check_number(number)\n",
      "    base_number = input(\"please enter your number base : \")\n",
      "    checked_base = format_check_base(base_number,checked_number)\n",
      "    going_to_base = input(\"please enter your number going to base : \")\n",
      "    checked_going_to_base = format_check_goingto_base(going_to_base,checked_base,checked_number)\n",
      "    \n",
      "    integer_num = []\n",
      "    for item in checked_number[0]:\n",
      "        integer_num.append(mapp(item))\n",
      "\n",
      "    decimal_num = []\n",
      "    for item in checked_number[1]:\n",
      "        decimal_num.append(mapp(item))\n",
      "    \n",
      "\n",
      "        \n",
      "    int_10 = integer_10(integer_num,checked_base)\n",
      "    dec_10 = decimal_10(decimal_num,checked_base)\n",
      "\n",
      "    if checked_going_to_base == 10:\n",
      "        return(str(int_10) + ''.join(map(str, str(dec_10).lstrip('0'))),None)\n",
      "\n",
      "    a = int10_toBase(int_10,checked_going_to_base)\n",
      "    b = dec10_toBase(dec_10,checked_going_to_base)\n",
      "    print(a)\n",
      "    print(b)\n",
      "    if b == '.':\n",
      "        b = '.0'\n",
      "\n",
      "\n",
      "    return(a + ''.join(map(str, b)),str(int_10) + ''.join(map(str, str(dec_10).lstrip('0'))))\n",
      "\n",
      "\n",
      "a , b  = main()\n",
      "print(\"number is :\",a)\n",
      "if b != None:\n",
      "    print(\"decimall is :\",b)\n"
     ]
    }
   ],
   "source": [
    "print(c)"
   ]
  },
  {
   "cell_type": "code",
   "execution_count": 42,
   "metadata": {},
   "outputs": [
    {
     "data": {
      "text/plain": [
       "False"
      ]
     },
     "execution_count": 42,
     "metadata": {},
     "output_type": "execute_result"
    }
   ],
   "source": [
    "f.closed"
   ]
  },
  {
   "cell_type": "code",
   "execution_count": 43,
   "metadata": {},
   "outputs": [],
   "source": [
    "f.close()"
   ]
  },
  {
   "cell_type": "code",
   "execution_count": 44,
   "metadata": {},
   "outputs": [
    {
     "data": {
      "text/plain": [
       "True"
      ]
     },
     "execution_count": 44,
     "metadata": {},
     "output_type": "execute_result"
    }
   ],
   "source": [
    "f.closed"
   ]
  },
  {
   "cell_type": "code",
   "execution_count": 46,
   "metadata": {},
   "outputs": [
    {
     "name": "stdout",
     "output_type": "stream",
     "text": [
      "#from salary import salary , tax\n",
      "#from salary import tax\n",
      "from a import  salary as s\n",
      "#from salary import *\n",
      "personals = {\n",
      "    'ali':{\n",
      "        'exp':10,\n",
      "        'edu':2,\n",
      "        'level_spc':3,\n",
      "        'base_salary':6000000\n",
      "        },\n",
      "    'hasan':{\n",
      "        'exp':5,\n",
      "        'edu':1,\n",
      "        'level_spc':4,\n",
      "        'base_salary':5000000\n",
      "        }\n",
      "}\n",
      "\n",
      "for person in personals:\n",
      "    print(f\"\"\"salary of {person} is {s.salary(personals[person]['exp'],\n",
      "                                          personals[person]['edu'],\n",
      "                                          personals[person]['level_spc'],\n",
      "                                          personals[person]['base_salary'] )}\"\"\")\n",
      "print(s.tax(5000000))\n",
      "print('scound __name:',__name__)\n"
     ]
    }
   ],
   "source": [
    "f = open('D:\\Mostafai\\python 1401 paeez\\s7\\\\n_calculate_salary.py')\n",
    "c = f.read()\n",
    "print(c)\n",
    "f.close()"
   ]
  },
  {
   "cell_type": "code",
   "execution_count": 47,
   "metadata": {},
   "outputs": [
    {
     "name": "stdout",
     "output_type": "stream",
     "text": [
      "#from salary import salary , tax\n",
      "#from salary import tax\n",
      "from a import  salary as s\n",
      "#from salary import *\n",
      "personals = {\n",
      "    'ali':{\n",
      "        'exp':10,\n",
      "        'edu':2,\n",
      "        'level_spc':3,\n",
      "        'base_salary':6000000\n",
      "        },\n",
      "    'hasan':{\n",
      "        'exp':5,\n",
      "        'edu':1,\n",
      "        'level_spc':4,\n",
      "        'base_salary':5000000\n",
      "        }\n",
      "}\n",
      "\n",
      "for person in personals:\n",
      "    print(f\"\"\"salary of {person} is {s.salary(personals[person]['exp'],\n",
      "                                          personals[person]['edu'],\n",
      "                                          personals[person]['level_spc'],\n",
      "                                          personals[person]['base_salary'] )}\"\"\")\n",
      "print(s.tax(5000000))\n",
      "print('scound __name:',__name__)\n"
     ]
    }
   ],
   "source": [
    "f = open('D:\\Mostafai\\python 1401 paeez\\s7/n_calculate_salary.py')\n",
    "c = f.read()\n",
    "print(c)\n",
    "f.close()"
   ]
  },
  {
   "cell_type": "code",
   "execution_count": 48,
   "metadata": {},
   "outputs": [
    {
     "name": "stdout",
     "output_type": "stream",
     "text": [
      "#from salary import salary , tax\n",
      "#from salary import tax\n",
      "from a import  salary as s\n",
      "#from salary import *\n",
      "personals = {\n",
      "    'ali':{\n",
      "        'exp':10,\n",
      "        'edu':2,\n",
      "        'level_spc':3,\n",
      "        'base_salary':6000000\n",
      "        },\n",
      "    'hasan':{\n",
      "        'exp':5,\n",
      "        'edu':1,\n",
      "        'level_spc':4,\n",
      "        'base_salary':5000000\n",
      "        }\n",
      "}\n",
      "\n",
      "for person in personals:\n",
      "    print(f\"\"\"salary of {person} is {s.salary(personals[person]['exp'],\n",
      "                                          personals[person]['edu'],\n",
      "                                          personals[person]['level_spc'],\n",
      "                                          personals[person]['base_salary'] )}\"\"\")\n",
      "print(s.tax(5000000))\n",
      "print('scound __name:',__name__)\n"
     ]
    }
   ],
   "source": [
    "f = open(r'D:\\Mostafai\\python 1401 paeez\\s7\\n_calculate_salary.py')\n",
    "c = f.read()\n",
    "print(c)\n",
    "f.close()"
   ]
  },
  {
   "cell_type": "code",
   "execution_count": 50,
   "metadata": {},
   "outputs": [
    {
     "name": "stdout",
     "output_type": "stream",
     "text": [
      "['#from salary import salary , tax\\n',\n",
      " '#from salary import tax\\n',\n",
      " 'from a import  salary as s\\n',\n",
      " '#from salary import *\\n',\n",
      " 'personals = {\\n',\n",
      " \"    'ali':{\\n\",\n",
      " \"        'exp':10,\\n\",\n",
      " \"        'edu':2,\\n\",\n",
      " \"        'level_spc':3,\\n\",\n",
      " \"        'base_salary':6000000\\n\",\n",
      " '        },\\n',\n",
      " \"    'hasan':{\\n\",\n",
      " \"        'exp':5,\\n\",\n",
      " \"        'edu':1,\\n\",\n",
      " \"        'level_spc':4,\\n\",\n",
      " \"        'base_salary':5000000\\n\",\n",
      " '        }\\n',\n",
      " '}\\n',\n",
      " '\\n',\n",
      " 'for person in personals:\\n',\n",
      " '    print(f\"\"\"salary of {person} is {s.salary(personals[person][\\'exp\\'],\\n',\n",
      " \"                                          personals[person]['edu'],\\n\",\n",
      " \"                                          personals[person]['level_spc'],\\n\",\n",
      " \"                                          personals[person]['base_salary'] \"\n",
      " ')}\"\"\")\\n',\n",
      " 'print(s.tax(5000000))\\n',\n",
      " \"print('scound __name:',__name__)\"]\n"
     ]
    }
   ],
   "source": [
    "from pprint import pprint\n",
    "f = open(r'D:\\Mostafai\\python 1401 paeez\\s7\\n_calculate_salary.py')\n",
    "c = f.readlines()\n",
    "pprint(c)"
   ]
  },
  {
   "cell_type": "code",
   "execution_count": 51,
   "metadata": {},
   "outputs": [
    {
     "name": "stdout",
     "output_type": "stream",
     "text": [
      "#from salary import salary , tax\n",
      "\n",
      "#from salary import tax\n",
      "\n",
      "from a import  salary as s\n",
      "\n",
      "#from salary import *\n",
      "\n",
      "personals = {\n",
      "\n",
      "    'ali':{\n",
      "\n",
      "        'exp':10,\n",
      "\n",
      "        'edu':2,\n",
      "\n",
      "        'level_spc':3,\n",
      "\n",
      "        'base_salary':6000000\n",
      "\n",
      "        },\n",
      "\n",
      "    'hasan':{\n",
      "\n",
      "        'exp':5,\n",
      "\n",
      "        'edu':1,\n",
      "\n",
      "        'level_spc':4,\n",
      "\n",
      "        'base_salary':5000000\n",
      "\n",
      "        }\n",
      "\n",
      "}\n",
      "\n",
      "\n",
      "\n",
      "for person in personals:\n",
      "\n",
      "    print(f\"\"\"salary of {person} is {s.salary(personals[person]['exp'],\n",
      "\n",
      "                                          personals[person]['edu'],\n",
      "\n",
      "                                          personals[person]['level_spc'],\n",
      "\n",
      "                                          personals[person]['base_salary'] )}\"\"\")\n",
      "\n",
      "print(s.tax(5000000))\n",
      "\n",
      "print('scound __name:',__name__)\n"
     ]
    }
   ],
   "source": [
    "for i in c:\n",
    "    print(i)"
   ]
  },
  {
   "cell_type": "code",
   "execution_count": 53,
   "metadata": {},
   "outputs": [
    {
     "data": {
      "text/plain": [
       "\"        'base_salary':6000000\\n\""
      ]
     },
     "execution_count": 53,
     "metadata": {},
     "output_type": "execute_result"
    }
   ],
   "source": [
    "c[9]"
   ]
  },
  {
   "cell_type": "code",
   "execution_count": 54,
   "metadata": {},
   "outputs": [
    {
     "data": {
      "text/plain": [
       "[\"    'ali':{\\n\",\n",
       " \"        'exp':10,\\n\",\n",
       " \"        'edu':2,\\n\",\n",
       " \"        'level_spc':3,\\n\",\n",
       " \"        'base_salary':6000000\\n\",\n",
       " '        },\\n',\n",
       " \"    'hasan':{\\n\"]"
      ]
     },
     "execution_count": 54,
     "metadata": {},
     "output_type": "execute_result"
    }
   ],
   "source": [
    "c[5:12]"
   ]
  },
  {
   "cell_type": "code",
   "execution_count": 55,
   "metadata": {},
   "outputs": [
    {
     "data": {
      "text/plain": [
       "0"
      ]
     },
     "execution_count": 55,
     "metadata": {},
     "output_type": "execute_result"
    }
   ],
   "source": [
    "f.seek(0)"
   ]
  },
  {
   "cell_type": "code",
   "execution_count": 56,
   "metadata": {},
   "outputs": [
    {
     "data": {
      "text/plain": [
       "'#from salary import salary , tax\\n#from salary import tax\\nfrom a import  salary as s\\n#from salary import *\\npersonals = {\\n    \\'ali\\':{\\n        \\'exp\\':10,\\n        \\'edu\\':2,\\n        \\'level_spc\\':3,\\n        \\'base_salary\\':6000000\\n        },\\n    \\'hasan\\':{\\n        \\'exp\\':5,\\n        \\'edu\\':1,\\n        \\'level_spc\\':4,\\n        \\'base_salary\\':5000000\\n        }\\n}\\n\\nfor person in personals:\\n    print(f\"\"\"salary of {person} is {s.salary(personals[person][\\'exp\\'],\\n                                          personals[person][\\'edu\\'],\\n                                          personals[person][\\'level_spc\\'],\\n                                          personals[person][\\'base_salary\\'] )}\"\"\")\\nprint(s.tax(5000000))\\nprint(\\'scound __name:\\',__name__)'"
      ]
     },
     "execution_count": 56,
     "metadata": {},
     "output_type": "execute_result"
    }
   ],
   "source": [
    "f.read()"
   ]
  },
  {
   "cell_type": "code",
   "execution_count": 57,
   "metadata": {},
   "outputs": [
    {
     "data": {
      "text/plain": [
       "''"
      ]
     },
     "execution_count": 57,
     "metadata": {},
     "output_type": "execute_result"
    }
   ],
   "source": [
    "f.read()"
   ]
  },
  {
   "cell_type": "code",
   "execution_count": 17,
   "metadata": {},
   "outputs": [
    {
     "data": {
      "text/plain": [
       "5"
      ]
     },
     "execution_count": 17,
     "metadata": {},
     "output_type": "execute_result"
    }
   ],
   "source": [
    "f.seek(5)"
   ]
  },
  {
   "cell_type": "code",
   "execution_count": 18,
   "metadata": {},
   "outputs": [
    {
     "data": {
      "text/plain": [
       "'app(m'"
      ]
     },
     "execution_count": 18,
     "metadata": {},
     "output_type": "execute_result"
    }
   ],
   "source": [
    "f.read(5)"
   ]
  },
  {
   "cell_type": "code",
   "execution_count": 43,
   "metadata": {},
   "outputs": [
    {
     "data": {
      "text/plain": [
       "' mapp'"
      ]
     },
     "execution_count": 43,
     "metadata": {},
     "output_type": "execute_result"
    }
   ],
   "source": [
    "f.read(5)"
   ]
  },
  {
   "cell_type": "code",
   "execution_count": 38,
   "metadata": {},
   "outputs": [
    {
     "data": {
      "text/plain": [
       "'.u'"
      ]
     },
     "execution_count": 38,
     "metadata": {},
     "output_type": "execute_result"
    }
   ],
   "source": [
    "f.read(2)"
   ]
  },
  {
   "cell_type": "code",
   "execution_count": 44,
   "metadata": {},
   "outputs": [
    {
     "data": {
      "text/plain": [
       "62"
      ]
     },
     "execution_count": 44,
     "metadata": {},
     "output_type": "execute_result"
    }
   ],
   "source": [
    "f.tell()"
   ]
  },
  {
   "cell_type": "code",
   "execution_count": 64,
   "metadata": {},
   "outputs": [
    {
     "data": {
      "text/plain": [
       "' import salary , tax\\n#from salary import tax\\nfrom a import  salary as s\\n#from salary import *\\npersonals = {\\n    \\'ali\\':{\\n        \\'exp\\':10,\\n        \\'edu\\':2,\\n        \\'level_spc\\':3,\\n        \\'base_salary\\':6000000\\n        },\\n    \\'hasan\\':{\\n        \\'exp\\':5,\\n        \\'edu\\':1,\\n        \\'level_spc\\':4,\\n        \\'base_salary\\':5000000\\n        }\\n}\\n\\nfor person in personals:\\n    print(f\"\"\"salary of {person} is {s.salary(personals[person][\\'exp\\'],\\n                                          personals[person][\\'edu\\'],\\n                                          personals[person][\\'level_spc\\'],\\n                                          personals[person][\\'base_salary\\'] )}\"\"\")\\nprint(s.tax(5000000))\\nprint(\\'scound __name:\\',__name__)'"
      ]
     },
     "execution_count": 64,
     "metadata": {},
     "output_type": "execute_result"
    }
   ],
   "source": [
    "f.read()"
   ]
  },
  {
   "cell_type": "code",
   "execution_count": 65,
   "metadata": {},
   "outputs": [
    {
     "data": {
      "text/plain": [
       "745"
      ]
     },
     "execution_count": 65,
     "metadata": {},
     "output_type": "execute_result"
    }
   ],
   "source": [
    "f.tell()"
   ]
  },
  {
   "cell_type": "code",
   "execution_count": 66,
   "metadata": {},
   "outputs": [
    {
     "data": {
      "text/plain": [
       "15"
      ]
     },
     "execution_count": 66,
     "metadata": {},
     "output_type": "execute_result"
    }
   ],
   "source": [
    "f.seek(15)"
   ]
  },
  {
   "cell_type": "code",
   "execution_count": 67,
   "metadata": {},
   "outputs": [
    {
     "data": {
      "text/plain": [
       "'port salar'"
      ]
     },
     "execution_count": 67,
     "metadata": {},
     "output_type": "execute_result"
    }
   ],
   "source": [
    "f.read(10)"
   ]
  },
  {
   "cell_type": "code",
   "execution_count": 68,
   "metadata": {},
   "outputs": [
    {
     "name": "stdout",
     "output_type": "stream",
     "text": [
      "y , tax\n",
      "\n",
      "#from salary import tax\n",
      "\n",
      "from a import  salary as s\n",
      "\n",
      "#from salary import *\n",
      "\n",
      "personals = {\n",
      "\n",
      "    'ali':{\n",
      "\n",
      "        'exp':10,\n",
      "\n",
      "        'edu':2,\n",
      "\n",
      "        'level_spc':3,\n",
      "\n",
      "        'base_salary':6000000\n",
      "\n",
      "        },\n",
      "\n",
      "    'hasan':{\n",
      "\n",
      "        'exp':5,\n",
      "\n",
      "        'edu':1,\n",
      "\n",
      "        'level_spc':4,\n",
      "\n",
      "        'base_salary':5000000\n",
      "\n",
      "        }\n",
      "\n",
      "}\n",
      "\n",
      "\n",
      "\n",
      "for person in personals:\n",
      "\n",
      "    print(f\"\"\"salary of {person} is {s.salary(personals[person]['exp'],\n",
      "\n",
      "                                          personals[person]['edu'],\n",
      "\n",
      "                                          personals[person]['level_spc'],\n",
      "\n",
      "                                          personals[person]['base_salary'] )}\"\"\")\n",
      "\n",
      "print(s.tax(5000000))\n",
      "\n",
      "print('scound __name:',__name__)\n"
     ]
    }
   ],
   "source": [
    "for line in f:\n",
    "    print(line)"
   ]
  },
  {
   "cell_type": "code",
   "execution_count": 69,
   "metadata": {},
   "outputs": [],
   "source": [
    "f.close()"
   ]
  },
  {
   "cell_type": "code",
   "execution_count": 53,
   "metadata": {},
   "outputs": [
    {
     "name": "stdout",
     "output_type": "stream",
     "text": [
      "name, age, bmi\n",
      "s, 20, 25\n",
      "a, 25, 26\n",
      "d, 40, 27\n",
      "c, 50, 30\n"
     ]
    }
   ],
   "source": [
    "f = open('test.txt')\n",
    "c = f.read()\n",
    "print(c)\n",
    "f.close()"
   ]
  },
  {
   "cell_type": "code",
   "execution_count": null,
   "metadata": {},
   "outputs": [
    {
     "name": "stdout",
     "output_type": "stream",
     "text": [
      "{'name': [], 'age': [], 'bmi': []}\n"
     ]
    },
    {
     "ename": "KeyError",
     "evalue": "0",
     "output_type": "error",
     "traceback": [
      "\u001b[0;31m---------------------------------------------------------------------------\u001b[0m",
      "\u001b[0;31mKeyError\u001b[0m                                  Traceback (most recent call last)",
      "Cell \u001b[0;32mIn[54], line 5\u001b[0m\n\u001b[1;32m      3\u001b[0m \u001b[38;5;28mprint\u001b[39m(result)\n\u001b[1;32m      4\u001b[0m \u001b[38;5;28;01mfor\u001b[39;00m line \u001b[38;5;129;01min\u001b[39;00m v[\u001b[38;5;241m1\u001b[39m:]:\n\u001b[0;32m----> 5\u001b[0m     \u001b[43mresult\u001b[49m\u001b[43m[\u001b[49m\u001b[38;5;241;43m0\u001b[39;49m\u001b[43m]\u001b[49m\u001b[38;5;241m.\u001b[39mappend(line\u001b[38;5;241m.\u001b[39msplit(\u001b[38;5;124m'\u001b[39m\u001b[38;5;124m,\u001b[39m\u001b[38;5;124m'\u001b[39m)[\u001b[38;5;241m0\u001b[39m])\n\u001b[1;32m      6\u001b[0m     result[\u001b[38;5;124m'\u001b[39m\u001b[38;5;124mage\u001b[39m\u001b[38;5;124m'\u001b[39m]\u001b[38;5;241m.\u001b[39mappend(line\u001b[38;5;241m.\u001b[39msplit(\u001b[38;5;124m'\u001b[39m\u001b[38;5;124m,\u001b[39m\u001b[38;5;124m'\u001b[39m)[\u001b[38;5;241m1\u001b[39m])\n\u001b[1;32m      7\u001b[0m     result[\u001b[38;5;124m'\u001b[39m\u001b[38;5;124mbmi\u001b[39m\u001b[38;5;124m'\u001b[39m]\u001b[38;5;241m.\u001b[39mappend(line\u001b[38;5;241m.\u001b[39msplit(\u001b[38;5;124m'\u001b[39m\u001b[38;5;124m,\u001b[39m\u001b[38;5;124m'\u001b[39m)[\u001b[38;5;241m2\u001b[39m])\n",
      "\u001b[0;31mKeyError\u001b[0m: 0"
     ]
    }
   ],
   "source": [
    "v = c.split('\\n')\n",
    "result = {k.strip():[] for k in v[0].split(',')}\n",
    "print(result)\n",
    "for line in v[1:]:\n",
    "    result['name'].append(line.split(',')[0])\n",
    "    result['age'].append(line.split(',')[1])\n",
    "    result['bmi'].append(line.split(',')[2])\n",
    "result"
   ]
  }
 ],
 "metadata": {
  "kernelspec": {
   "display_name": "Python 3",
   "language": "python",
   "name": "python3"
  },
  "language_info": {
   "codemirror_mode": {
    "name": "ipython",
    "version": 3
   },
   "file_extension": ".py",
   "mimetype": "text/x-python",
   "name": "python",
   "nbconvert_exporter": "python",
   "pygments_lexer": "ipython3",
   "version": "3.12.3"
  }
 },
 "nbformat": 4,
 "nbformat_minor": 2
}
