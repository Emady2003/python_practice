{
 "cells": [
  {
   "cell_type": "code",
   "execution_count": 2,
   "metadata": {},
   "outputs": [
    {
     "name": "stdout",
     "output_type": "stream",
     "text": [
      "[2, 8, 3, 1]\n"
     ]
    }
   ],
   "source": [
    "# my_list = []\n",
    "# list_argoman = input(\"number : \")\n",
    "# while list_argoman != \"\":\n",
    "#     my_list.append(str(list_argoman))\n",
    "#     list_argoman = input(\"number : \")\n",
    "\n",
    "def ReversMaker (my_list):\n",
    "    reversed_list = []\n",
    "    counter = 1\n",
    "    while counter != len(my_list)+1 :\n",
    "        reversed_list.append(my_list[-counter])\n",
    "        counter += 1\n",
    "    return(reversed_list)\n",
    "\n",
    "my_list = [ 1, 3 ,8 ,2]\n",
    "print(ReversMaker(my_list))\n",
    "\n"
   ]
  },
  {
   "cell_type": "code",
   "execution_count": 3,
   "metadata": {},
   "outputs": [
    {
     "data": {
      "text/plain": [
       "'cccccccccccccccc'"
      ]
     },
     "execution_count": 3,
     "metadata": {},
     "output_type": "execute_result"
    }
   ],
   "source": [
    "def sorted_len_dic (my_list):\n",
    "    my_dict = {}\n",
    "    sorted_dict = {}\n",
    "    for item in my_list:\n",
    "        if type(item) == str:\n",
    "            my_dict[len(item)] = item\n",
    "        elif type(item) == int:\n",
    "            my_dict[int(item)] = item\n",
    "    sorted_number = sorted(my_dict)\n",
    "    return(my_dict[sorted_number[-1]])#max number is sorted_number[-1]\n",
    "\n",
    "my_list = [ 1, \"aaaaa\", 4, \"bbb\", 10, \"cccccccccccccccc\", 5, \"ddddddddddddd\"]\n",
    "sorted_len_dic(my_list)\n"
   ]
  },
  {
   "cell_type": "code",
   "execution_count": 32,
   "metadata": {},
   "outputs": [
    {
     "name": "stdout",
     "output_type": "stream",
     "text": [
      "(2, ' امتیاز منفی') گواهینامه شما باطل شد good\n"
     ]
    }
   ],
   "source": [
    "def speed_control (speed):\n",
    "    speed = int(speed)\n",
    "    if speed < 70:\n",
    "        return(\"good\")\n",
    "    else:\n",
    "        driver_point = ((speed - 70)//5)\n",
    "        if driver_point >= 12:\n",
    "            return(\"گواهینامه شما باطل شد\")\n",
    "        else:\n",
    "            return(driver_point,\" امتیاز منفی\")\n",
    "    \n",
    "print(speed_control(\"80\"),speed_control(\"220\"),speed_control(\"60\"))"
   ]
  },
  {
   "cell_type": "code",
   "execution_count": 18,
   "metadata": {},
   "outputs": [
    {
     "data": {
      "text/plain": [
       "7.0710678118654755"
      ]
     },
     "execution_count": 18,
     "metadata": {},
     "output_type": "execute_result"
    }
   ],
   "source": [
    "def distance (a,b):\n",
    "    return((((a[0]-b[0])**2)+((a[1]-b[1])**2))**(0.5))\n",
    "\n",
    "x=(1,5)\n",
    "y=(8,4)\n",
    "distance(x,y)"
   ]
  },
  {
   "cell_type": "code",
   "execution_count": null,
   "metadata": {},
   "outputs": [
    {
     "data": {
      "text/plain": [
       "'ham narasta'"
      ]
     },
     "execution_count": 46,
     "metadata": {},
     "output_type": "execute_result"
    }
   ],
   "source": [
    "def ham_rastaiee (a,b,c):\n",
    "    s = 0.5*((a[0]*(b[1]-c[1]))+(b[0]*(c[1]-a[1]))+(c[0]*(a[1]-b[1])))\n",
    "    if s == 0 :\n",
    "        return(\"hamrasta\")\n",
    "    else :\n",
    "        return(\"ham narasta\")\n",
    "\n",
    "x = (1,1)\n",
    "y = (2,2)\n",
    "z = (9,8)\n",
    "ham_rastaiee(x,y,z)"
   ]
  },
  {
   "cell_type": "code",
   "execution_count": 84,
   "metadata": {},
   "outputs": [
    {
     "name": "stdout",
     "output_type": "stream",
     "text": [
      "6.0 6.0 3.1058285412302493\n"
     ]
    },
    {
     "data": {
      "text/plain": [
       "'motasaviol saghein'"
      ]
     },
     "execution_count": 84,
     "metadata": {},
     "output_type": "execute_result"
    }
   ],
   "source": [
    "def che_mosalasi(a,b,c):\n",
    "    ab = distance(a,b)\n",
    "    ac = distance(a,c)\n",
    "    bc = distance(b,c)\n",
    "    print(ab,ac,bc)\n",
    "    if ab==ac==bc:\n",
    "        return(\"motesaviol azla\")\n",
    "    if ab==ac or ab==bc or ac==bc:\n",
    "        if ((ab**2)+(ac**2))**(0.5)==bc or ((ac**2)+(bc**2))**(0.5)==ab or ((bc**2)+(ab**2))**(0.5)==ac :\n",
    "            return(\"motasaviol sagheine ghaem \")\n",
    "        else:\n",
    "            return(\"motasaviol saghein\")\n",
    "    else:\n",
    "        if ((ab**2)+(ac**2))**(0.5)==bc or ((ac**2)+(bc**2))**(0.5)==ab or ((bc**2)+(ab**2))**(0.5)==ac :\n",
    "            return(\"ghaem\")\n",
    "        return(\"normal\")\n",
    "x = (0,0)\n",
    "# y = (6,0)\n",
    "z = (3,(27**0.5))\n",
    "y = ((27**0.5),3)\n",
    "# y = (0,4)\n",
    "# y = (0,3)\n",
    "# z = (4,0)\n",
    "che_mosalasi(x,y,z)\n",
    "    "
   ]
  },
  {
   "cell_type": "code",
   "execution_count": null,
   "metadata": {},
   "outputs": [
    {
     "name": "stdout",
     "output_type": "stream",
     "text": [
      "[('k', 98), ('b', 99), ('a', 101), ('z', 108)]\n"
     ]
    }
   ],
   "source": [
    "def center_distance (a,b,c):\n",
    "    my_dict = {}\n",
    "    y = (a[1]+b[1]+c[1])/3\n",
    "    x = (a[0]+b[0]+c[0])/3\n",
    "    center = (x,y)\n",
    "    my_dict[\"a\"] = (distance(a,center))\n",
    "    my_dict[\"b\"] = (distance(b,center))\n",
    "    my_dict[\"c\"] = (distance(c,center))\n",
    "    my_list = list(my_dict.items())\n",
    "    my_list.sort(key = lambda x :x[1])\n",
    "    return(my_list)\n",
    "\n",
    "a = (0,0)\n",
    "b = (4,0)\n",
    "c = (2,4)\n",
    "k = center_distance(a,b,c)\n",
    "print(k)"
   ]
  },
  {
   "cell_type": "code",
   "execution_count": 26,
   "metadata": {},
   "outputs": [
    {
     "data": {
      "text/plain": [
       "'HELLO'"
      ]
     },
     "execution_count": 26,
     "metadata": {},
     "output_type": "execute_result"
    }
   ],
   "source": [
    "a = 'hello'\n",
    "b = a.upper()\n",
    "b"
   ]
  }
 ],
 "metadata": {
  "kernelspec": {
   "display_name": "usr",
   "language": "python",
   "name": "python3"
  },
  "language_info": {
   "codemirror_mode": {
    "name": "ipython",
    "version": 3
   },
   "file_extension": ".py",
   "mimetype": "text/x-python",
   "name": "python",
   "nbconvert_exporter": "python",
   "pygments_lexer": "ipython3",
   "version": "3.12.3"
  }
 },
 "nbformat": 4,
 "nbformat_minor": 2
}
