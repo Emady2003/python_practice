{
 "cells": [
  {
   "cell_type": "code",
   "execution_count": 112,
   "metadata": {},
   "outputs": [
    {
     "name": "stdout",
     "output_type": "stream",
     "text": [
      "-- -- 2nd dictionary -- --\n",
      "{'e': 70, 'b': 80, 'd': 96, 'a': 40}\n"
     ]
    }
   ],
   "source": [
    "# 1st dictionary\n",
    "key = str(input(\"-the key is : \"))\n",
    "val = int(input(\"-the value is : \"))\n",
    "d1 = {}\n",
    "while d1.keys != \"\":\n",
    "    d1[str(key)] = int(val)\n",
    "    key = input(\"-the key is : \")\n",
    "    if key == \"\":\n",
    "        break\n",
    "    val = input(\"-the value is : \")\n",
    "    if val == \"\":\n",
    "        break\n",
    "# 2nd dictionary\n",
    "print(\"-- -- 2nd dictionary -- --\")\n",
    "key = str(input(\"-the key is : \"))\n",
    "val = int(input(\"-the value is : \"))\n",
    "d2 = {}\n",
    "while d2.keys != \"\":\n",
    "    d2[str(key)] = int(val)\n",
    "    key = input(\"-the key is : \")\n",
    "    if key == \"\":\n",
    "        break\n",
    "    val = input(\"-the value is : \")\n",
    "    if val == \"\":\n",
    "        break\n",
    "# d1 = {'a': 100, 'b': 200, 'c':300}\n",
    "# d2 = {'a': 300, 'b': 200, 'd':400}\n",
    "result = {}\n",
    "\n",
    "for key in set(d1) | set(d2):\n",
    "# union d1 , d2\n",
    "    result[key] = d1.get(key, 0) + d2.get(key, 0) \n",
    "    #if there isnt key for it return \"0\"\n",
    "\n",
    "print(result)\n"
   ]
  },
  {
   "cell_type": "code",
   "execution_count": 113,
   "metadata": {},
   "outputs": [
    {
     "name": "stdout",
     "output_type": "stream",
     "text": [
      "سنهای منحصربهفرد {25, 30}\n",
      "{25: 2, 30: 2}\n",
      "['Ali', 'Reza', 'Mina', 'Sara']\n"
     ]
    }
   ],
   "source": [
    "peoples = [(\"Ali\", 25), (\"Mina\", 30), (\"Reza\", 25), (\"Sara\", 30)]\n",
    "peoples.sort(key = lambda x:x[1])\n",
    "peoples\n",
    "names = []\n",
    "ages = []\n",
    "for people in peoples:\n",
    "    names.append(people[0])\n",
    "    ages.append(people[1])\n",
    "# dictpeople = dict(zip(names,ages))\n",
    "print(\"سنهای منحصربهفرد\",set(ages))\n",
    "dicti = {}\n",
    "for number in set(ages):\n",
    "    dicti[number]=ages.count(number)\n",
    "print(dicti)\n",
    "print(names)\n"
   ]
  },
  {
   "cell_type": "code",
   "execution_count": 114,
   "metadata": {},
   "outputs": [
    {
     "name": "stdout",
     "output_type": "stream",
     "text": [
      "[{'name': 'Mina', 'age': 30}, {'name': 'Sara', 'age': 28}]\n"
     ]
    }
   ],
   "source": [
    "peoples = [{\"name\": \"Ali\", \"age\": 23},{\"name\": \"Mina\", \"age\": 30},{\"name\": \"Reza\", \"age\": 25},{\"name\": \"Sara\", \"age\": 28}]\n",
    "listi = []\n",
    "for people in peoples :\n",
    "    if people[\"age\"]>25:\n",
    "        listi.append(people)\n",
    "print(listi)"
   ]
  },
  {
   "cell_type": "code",
   "execution_count": 115,
   "metadata": {},
   "outputs": [
    {
     "name": "stdout",
     "output_type": "stream",
     "text": [
      "[1, 2, 3, 4, 5]\n"
     ]
    }
   ],
   "source": [
    "nested_list = [[1, 2, 3], [2, 3, 4], [3, 4, 5]]\n",
    "listo = []\n",
    "# for item in nested_list:\n",
    "#     item = item.sort()\n",
    "# for item in nested_list:\n",
    "#     listi = []\n",
    "#     counter = 1\n",
    "#     for number in item:\n",
    "#         listi.append(item[-counter])\n",
    "#         counter = counter + 1\n",
    "#     listo.append(listi)\n",
    "# print(listo)\n",
    "for item in nested_list:\n",
    "    for i in item:\n",
    "        listo.append(i)\n",
    "listo = list(set(listo))\n",
    "# listo.sort(reverse=True)\n",
    "print(listo)"
   ]
  },
  {
   "cell_type": "code",
   "execution_count": 116,
   "metadata": {},
   "outputs": [
    {
     "data": {
      "text/plain": [
       "{5: 'apple', 3: 'dog', 4: 'book', 6: 'python'}"
      ]
     },
     "execution_count": 116,
     "metadata": {},
     "output_type": "execute_result"
    }
   ],
   "source": [
    "words = [\"apple\", \"cat\", \"dog\", \"book\", \"python\"]\n",
    "dictword ={}\n",
    "for word in words :\n",
    "    dictword[len(word)] = word\n",
    "dictword"
   ]
  }
 ],
 "metadata": {
  "kernelspec": {
   "display_name": "usr",
   "language": "python",
   "name": "python3"
  },
  "language_info": {
   "codemirror_mode": {
    "name": "ipython",
    "version": 3
   },
   "file_extension": ".py",
   "mimetype": "text/x-python",
   "name": "python",
   "nbconvert_exporter": "python",
   "pygments_lexer": "ipython3",
   "version": "3.12.3"
  }
 },
 "nbformat": 4,
 "nbformat_minor": 2
}
