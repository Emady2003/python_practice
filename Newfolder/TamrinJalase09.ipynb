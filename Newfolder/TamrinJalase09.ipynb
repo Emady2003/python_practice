{
 "cells": [
  {
   "cell_type": "code",
   "execution_count": 87,
   "id": "b85b353e",
   "metadata": {},
   "outputs": [
    {
     "data": {
      "text/plain": [
       "['name, age, bmi', 's, 20, 25']"
      ]
     },
     "execution_count": 87,
     "metadata": {},
     "output_type": "execute_result"
    }
   ],
   "source": [
    "def first_n_line(file,n):\n",
    "    file = my_file.read()\n",
    "    file = file.split('\\n')\n",
    "    n = len(file)-n\n",
    "    return(file[:-n])\n",
    "\n",
    "my_file = open('TamrinJalase09.txt')\n",
    "first_n_line(my_file,2)"
   ]
  },
  {
   "cell_type": "code",
   "execution_count": 89,
   "id": "5508309c",
   "metadata": {},
   "outputs": [
    {
     "data": {
      "text/plain": [
       "['d, 40, 27', 'c, 50, 30']"
      ]
     },
     "execution_count": 89,
     "metadata": {},
     "output_type": "execute_result"
    }
   ],
   "source": [
    "def first_n_line(file,n):\n",
    "    file = my_file.read()\n",
    "    file = file.split('\\n')\n",
    "    return(file[-n:])\n",
    "\n",
    "my_file = open('TamrinJalase09.txt')\n",
    "first_n_line(my_file,2)"
   ]
  },
  {
   "cell_type": "code",
   "execution_count": null,
   "id": "e8436ac8",
   "metadata": {},
   "outputs": [
    {
     "data": {
      "text/plain": [
       "187"
      ]
     },
     "execution_count": 111,
     "metadata": {},
     "output_type": "execute_result"
    }
   ],
   "source": [
    "def  reverse(number):\n",
    "    final_list =[]\n",
    "    sum = 0\n",
    "    if number<0:\n",
    "        number = int(number)*(-1)\n",
    "        my_list = list(str(number))\n",
    "        lene = len(my_list)\n",
    "        while lene != 0:\n",
    "            final_list.append(my_list[lene-1])\n",
    "            lene -=1\n",
    "        lene = len(final_list)\n",
    "        for item in final_list:\n",
    "            sum = sum + (int(item))*(10**(lene))\n",
    "            lene -=1\n",
    "        return(int((sum/10)*(-1)))\n",
    "\n",
    "        \n",
    "    else:\n",
    "        number = int(number)\n",
    "        my_list = list(str(number))\n",
    "        lene = len(my_list)\n",
    "        while lene != 0:\n",
    "            final_list.append(my_list[lene-1])\n",
    "            lene -=1\n",
    "        lene = len(final_list)\n",
    "        for item in final_list:\n",
    "            sum = sum + (int(item))*(10**(lene))\n",
    "            lene -=1\n",
    "        return(int(sum/10))\n",
    "    \n",
    "reverse(-256)\n",
    "# reverse(781)"
   ]
  },
  {
   "cell_type": "code",
   "execution_count": 39,
   "id": "ed0c62e5",
   "metadata": {},
   "outputs": [
    {
     "name": "stdout",
     "output_type": "stream",
     "text": [
      "3083\n"
     ]
    }
   ],
   "source": [
    "def addString(number_list):\n",
    "    result = 0\n",
    "    for item in number_list:\n",
    "        a = 'num:\"245\"'\n",
    "        b = item.split(':\"')\n",
    "        c = list(b[1])\n",
    "        c.pop(-1)\n",
    "        sum =\"\"\n",
    "        for i in c :\n",
    "            sum = sum + i\n",
    "        sum = int(sum)\n",
    "        result =result+sum\n",
    "    print(result)\n",
    "    \n",
    "\n",
    "# number_list= []\n",
    "# numberlist =(input('e.g.,(num : \"45324\"):'))\n",
    "# while numberlist != \"\":\n",
    "#     number_list.append(numberlist)\n",
    "#     numberlist=(input(\"\"))\n",
    "# addString(number_list)\n",
    "my_list = ['num:\"2345\"', 'num:\"726\"', 'num:\"12\"']\n",
    "addString(my_list)\n"
   ]
  },
  {
   "cell_type": "code",
   "execution_count": 55,
   "id": "4a515410",
   "metadata": {},
   "outputs": [
    {
     "name": "stdout",
     "output_type": "stream",
     "text": [
      "some some\n"
     ]
    },
    {
     "data": {
      "text/plain": [
       "5"
      ]
     },
     "execution_count": 55,
     "metadata": {},
     "output_type": "execute_result"
    }
   ],
   "source": [
    "def firstUChar(string):\n",
    "    counter = 0\n",
    "    string_list = list(string)\n",
    "    for i in string_list:\n",
    "        counter += 1\n",
    "        if string_list.count(i) == 1:\n",
    "            return(counter)\n",
    "    return(-1)\n",
    "\n",
    "a = input(\"please enter a string :\")\n",
    "print(a)\n",
    "firstUChar(a)\n",
    "\n"
   ]
  },
  {
   "cell_type": "code",
   "execution_count": 6,
   "id": "13621211",
   "metadata": {},
   "outputs": [
    {
     "data": {
      "text/plain": [
       "'its a mirror word'"
      ]
     },
     "execution_count": 6,
     "metadata": {},
     "output_type": "execute_result"
    }
   ],
   "source": [
    "def mirror(word):\n",
    "    for letter in list(word):\n",
    "        if (list(word).count(letter))%2 == 0:\n",
    "            return(\"its a mirror word\")\n",
    "    return(\"its not a mirror word\")\n",
    "\n",
    "mirror(input(\"input somthing :\"))\n"
   ]
  },
  {
   "cell_type": "code",
   "execution_count": null,
   "id": "3867a27a",
   "metadata": {},
   "outputs": [
    {
     "data": {
      "text/plain": [
       "271"
      ]
     },
     "execution_count": 33,
     "metadata": {},
     "output_type": "execute_result"
    }
   ],
   "source": [
    "\n"
   ]
  },
  {
   "cell_type": "code",
   "execution_count": 90,
   "id": "049e4f69",
   "metadata": {},
   "outputs": [
    {
     "name": "stdout",
     "output_type": "stream",
     "text": [
      "{'name': [], 'age': [], 'bmi': []}\n"
     ]
    }
   ],
   "source": [
    "my_file = open(\"TamrinJalase09.txt\")\n",
    "file = my_file.read()\n",
    "new_file = file.split('\\n')\n",
    "my_new_file = {item.strip():[] for item in new_file[0].split(',')}\n",
    "print(my_new_file)"
   ]
  }
 ],
 "metadata": {
  "kernelspec": {
   "display_name": "Python 3",
   "language": "python",
   "name": "python3"
  },
  "language_info": {
   "codemirror_mode": {
    "name": "ipython",
    "version": 3
   },
   "file_extension": ".py",
   "mimetype": "text/x-python",
   "name": "python",
   "nbconvert_exporter": "python",
   "pygments_lexer": "ipython3",
   "version": "3.12.3"
  }
 },
 "nbformat": 4,
 "nbformat_minor": 5
}
